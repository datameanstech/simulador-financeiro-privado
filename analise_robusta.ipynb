{
  "cells": [
    {
      "cell_type": "raw",
      "metadata": {
        "vscode": {
          "languageId": "raw"
        }
      },
      "source": [
        "# 📊 Análise Robusta de Grandes Litigantes\n",
        "## Volume: 14+ milhões de registros\n",
        "### Otimizado para performance e memória\n",
        "\n",
        "**Vantagens desta abordagem:**\n",
        "- ⚡ **Polars**: 10-100x mais rápido que Pandas\n",
        "- 💾 **Lazy Loading**: Não trava a memória\n",
        "- 🔄 **Streaming**: Processa em lotes\n",
        "- 📊 **Jupyter**: Interface rica e interativa\n",
        "- 💪 **Sem limitações**: Processa qualquer volume\n"
      ]
    },
    {
      "cell_type": "code",
      "execution_count": null,
      "metadata": {},
      "outputs": [],
      "source": [
        "# Configuração inicial - Imports otimizados\n",
        "import polars as pl\n",
        "import pandas as pd\n",
        "import numpy as np\n",
        "import plotly.express as px\n",
        "import plotly.graph_objects as go\n",
        "from plotly.subplots import make_subplots\n",
        "import requests\n",
        "from pathlib import Path\n",
        "import gc  # Garbage collector para limpeza de memória\n",
        "from tqdm import tqdm  # Barra de progresso\n",
        "\n",
        "# Configurações de performance\n",
        "pl.Config.set_tbl_rows(20)  # Limitar exibição\n",
        "pd.set_option('display.max_rows', 20)\n",
        "\n",
        "print(\"✅ Imports configurados para análise de grandes volumes\")\n"
      ]
    }
  ],
  "metadata": {
    "language_info": {
      "name": "python"
    }
  },
  "nbformat": 4,
  "nbformat_minor": 2
}
