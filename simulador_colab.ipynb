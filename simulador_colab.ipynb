{
  "cells": [
    {
      "cell_type": "raw",
      "metadata": {
        "vscode": {
          "languageId": "raw"
        }
      },
      "source": [
        "# 📊 SIMULADOR FINANCEIRO - GRANDES LITIGANTES\n",
        "\n",
        "## ⚡ PARA USAR É SUPER SIMPLES:\n",
        "\n",
        "**1️⃣ Clique na seta ▶️ ao lado de cada código**  \n",
        "**2️⃣ Aguarde processar**  \n",
        "**3️⃣ Vá para o próximo código**\n",
        "\n",
        "### 🎯 **COMECE AQUI** - Instalar bibliotecas (1x só)\n"
      ]
    },
    {
      "cell_type": "code",
      "execution_count": null,
      "metadata": {},
      "outputs": [],
      "source": [
        "# ⬇️ CLIQUE NA SETA PARA INSTALAR (demora 2-3 minutos na primeira vez)\n",
        "\n",
        "%pip install polars requests plotly\n",
        "\n",
        "print(\"✅ PRONTO! Agora vá para o próximo código\")\n"
      ]
    },
    {
      "cell_type": "raw",
      "metadata": {
        "vscode": {
          "languageId": "raw"
        }
      },
      "source": [
        "### 📥 **PASSO 2** - Baixar dados automaticamente\n"
      ]
    },
    {
      "cell_type": "code",
      "execution_count": null,
      "metadata": {},
      "outputs": [],
      "source": [
        "# ⬇️ CLIQUE AQUI PARA BAIXAR OS DADOS (demora 3-5 minutos)\n",
        "\n",
        "import polars as pl\n",
        "import requests\n",
        "import time\n",
        "\n",
        "def baixar_dados_drive():\n",
        "    \"\"\"Baixa automaticamente o arquivo de grandes litigantes\"\"\"\n",
        "    file_id = \"1Ns07hTZaK4Ry6bFEHvLACZ5tHJ7b-C2E\"\n",
        "    nome_arquivo = \"grandes_litigantes_202504.parquet\"\n",
        "    \n",
        "    print(\"📥 Baixando dados dos grandes litigantes...\")\n",
        "    print(\"⏳ Aguarde: isso pode demorar alguns minutos...\")\n",
        "    \n",
        "    # Múltiplas URLs para garantir download\n",
        "    urls = [\n",
        "        f\"https://drive.google.com/uc?export=download&id={file_id}\",\n",
        "        f\"https://drive.google.com/uc?id={file_id}&export=download\"\n",
        "    ]\n",
        "    \n",
        "    for i, url in enumerate(urls):\n",
        "        try:\n",
        "            print(f\"🔄 Tentativa {i+1}: {url[:50]}...\")\n",
        "            \n",
        "            session = requests.Session()\n",
        "            response = session.get(url, stream=True)\n",
        "            \n",
        "            # Verificar confirmação de vírus do Google\n",
        "            if 'confirm=' in response.text and 'download' not in response.url:\n",
        "                print(\"🔒 Confirmando download no Google Drive...\")\n",
        "                confirm_url = f\"https://drive.google.com/uc?export=download&confirm=t&id={file_id}\"\n",
        "                response = session.get(confirm_url, stream=True)\n",
        "            \n",
        "            if response.status_code == 200 and len(response.content) > 1000000:  # > 1MB\n",
        "                print(\"💾 Salvando arquivo...\")\n",
        "                with open(nome_arquivo, 'wb') as f:\n",
        "                    for chunk in response.iter_content(chunk_size=8192):\n",
        "                        if chunk:\n",
        "                            f.write(chunk)\n",
        "                \n",
        "                # Verificar se foi baixado corretamente\n",
        "                try:\n",
        "                    test_df = pl.scan_parquet(nome_arquivo)\n",
        "                    rows = test_df.select(pl.len()).collect().item()\n",
        "                    print(f\"✅ SUCESSO! Arquivo baixado: {rows:,} registros\")\n",
        "                    return nome_arquivo\n",
        "                except Exception as e:\n",
        "                    print(f\"⚠️ Arquivo corrompido: {e}\")\n",
        "                    continue\n",
        "            else:\n",
        "                print(f\"❌ Status {response.status_code} ou arquivo muito pequeno\")\n",
        "                \n",
        "        except Exception as e:\n",
        "            print(f\"❌ Erro na tentativa {i+1}: {str(e)[:100]}\")\n",
        "            \n",
        "    print(\"❌ Não foi possível baixar. Tente novamente!\")\n",
        "    return None\n",
        "\n",
        "# EXECUTAR DOWNLOAD\n",
        "arquivo = baixar_dados_drive()\n",
        "\n",
        "if arquivo:\n",
        "    print(\"\\n🎉 DADOS PRONTOS! Vá para o próximo código\")\n",
        "else:\n",
        "    print(\"\\n⚠️ PROBLEMA no download. Execute este código novamente!\")\n"
      ]
    }
  ],
  "metadata": {
    "language_info": {
      "name": "python"
    }
  },
  "nbformat": 4,
  "nbformat_minor": 2
}
